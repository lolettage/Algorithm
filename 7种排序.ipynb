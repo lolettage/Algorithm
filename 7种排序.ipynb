{
 "cells": [
  {
   "cell_type": "code",
   "execution_count": 13,
   "metadata": {},
   "outputs": [
    {
     "name": "stdout",
     "output_type": "stream",
     "text": [
      "[3, 5, 8, 9, 10, 18, 26, 75]\n"
     ]
    }
   ],
   "source": [
    "# 冒泡\n",
    "def maopao(a, n):\n",
    "    for i in range(n):\n",
    "        for j in range(1, n - i):\n",
    "            if a[j - 1] > a[j]:\n",
    "                a[j - 1], a[j] = a[j], a[j - 1]\n",
    "    return a\n",
    "\n",
    "a = a = [5, 10, 9, 18, 75, 26, 8, 3]\n",
    "n = len(a)\n",
    "print(maopao(a,n))"
   ]
  },
  {
   "cell_type": "code",
   "execution_count": 12,
   "metadata": {},
   "outputs": [
    {
     "name": "stdout",
     "output_type": "stream",
     "text": [
      "[3, 5, 8, 9, 10, 18, 26, 75]\n"
     ]
    }
   ],
   "source": [
    "# 选择\n",
    "def xuanze(a, n):\n",
    "    for i in range(n):\n",
    "        minz = i\n",
    "        for j in range(i + 1, n):\n",
    "            if a[j] < a[minz]:\n",
    "                minz = j\n",
    "        a[minz], a[i] = a[i], a[minz]\n",
    "    return a\n",
    "\n",
    "a = [5, 10, 9, 18, 75, 26, 8, 3]\n",
    "n = len(a)\n",
    "print(xuanze(a,n))"
   ]
  },
  {
   "cell_type": "code",
   "execution_count": 16,
   "metadata": {},
   "outputs": [
    {
     "name": "stdout",
     "output_type": "stream",
     "text": [
      "[3, 5, 8, 9, 10, 18, 26, 75]\n"
     ]
    }
   ],
   "source": [
    "# 插入\n",
    "def charu(a,n):\n",
    "    for i in range(1, n):\n",
    "        if a[i] < a[i - 1]:\n",
    "            target = i\n",
    "            t = a[i]\n",
    "            for j in range(i - 1, -1, -1):\n",
    "                if a[j] > t:\n",
    "                    a[j + 1] = a[j]\n",
    "                    target = j\n",
    "                else:\n",
    "                    break\n",
    "            a[target] = t\n",
    "    return a\n",
    "        \n",
    "a = [5, 10, 9, 18, 75, 26, 8, 3]\n",
    "n = len(a)\n",
    "print(charu(a,n))"
   ]
  },
  {
   "cell_type": "code",
   "execution_count": 23,
   "metadata": {},
   "outputs": [
    {
     "name": "stdout",
     "output_type": "stream",
     "text": [
      "[3, 5, 8, 9, 10, 18, 26, 75]\n"
     ]
    }
   ],
   "source": [
    "# 希尔\n",
    "def xier(a, n):\n",
    "    gap = round(n / 2)\n",
    "    while gap > 0:\n",
    "        for i in range(gap, n):\n",
    "            t = a[i]\n",
    "            j = i\n",
    "            while(j >= gap and a[j - gap] > t):\n",
    "                a[j] = a[j - gap]\n",
    "                j = j - gap\n",
    "            a[j] = t\n",
    "        gap = round(gap / 2)\n",
    "    return a\n",
    "\n",
    "a = [5, 10, 9, 18, 75, 26, 8, 3]\n",
    "n = len(a)\n",
    "print(xier(a,n))"
   ]
  },
  {
   "cell_type": "code",
   "execution_count": 27,
   "metadata": {},
   "outputs": [
    {
     "name": "stdout",
     "output_type": "stream",
     "text": [
      "[3, 5, 8, 9, 10, 18, 26, 75]\n"
     ]
    }
   ],
   "source": [
    "# 归并\n",
    "def guibing(a):\n",
    "    if len(a) <= 1:\n",
    "        return a\n",
    "    num = int(len(a) / 2)\n",
    "    left = guibing(a[:num])\n",
    "    right = guibing(a[num:])\n",
    "    return hebing(left, right)\n",
    "\n",
    "def hebing(left, right):\n",
    "    l, r = 0, 0\n",
    "    result = []\n",
    "    while l < len(left) and r < len(right):\n",
    "        if left[l] < right[r]:\n",
    "            result.append(left[l])\n",
    "            l += 1\n",
    "        else:\n",
    "            result.append(right[r])\n",
    "            r += 1\n",
    "    result += left[l:]\n",
    "    result += right[r:]\n",
    "    return result\n",
    "\n",
    "a = [5, 10, 9, 18, 75, 26, 8, 3]\n",
    "print(guibing(a))"
   ]
  },
  {
   "cell_type": "code",
   "execution_count": 6,
   "metadata": {},
   "outputs": [
    {
     "name": "stdout",
     "output_type": "stream",
     "text": [
      "[3, 5, 8, 9, 10, 18, 26, 75]\n"
     ]
    }
   ],
   "source": [
    "# 快速\n",
    "def kuaisu(a):\n",
    "    return paixu(a, 0, len(a) - 1)\n",
    "\n",
    "def paixu(a, left, right):\n",
    "    if left >= right:\n",
    "        return a\n",
    "    key = a[left]\n",
    "    l = left\n",
    "    r = right\n",
    "    while l < r:\n",
    "        while a[r] >= key and l < r:\n",
    "            r -= 1\n",
    "        while a[l] <= key and l < r:\n",
    "            l += 1\n",
    "        a[l], a[r] = a[r], a[l]\n",
    "    a[left], a[l] = a[l], a[left]\n",
    "    paixu(a, left, l - 1)\n",
    "    paixu(a, r + 1, right)\n",
    "    return a\n",
    "\n",
    "a = [5, 10, 9, 18, 75, 26, 8, 3]\n",
    "print(kuaisu(a))"
   ]
  },
  {
   "cell_type": "code",
   "execution_count": 8,
   "metadata": {},
   "outputs": [
    {
     "name": "stdout",
     "output_type": "stream",
     "text": [
      "[3, 5, 8, 9, 10, 18, 26, 75]\n"
     ]
    }
   ],
   "source": [
    "# 堆\n",
    "def dui(a, n):\n",
    "    first = int(n / 2 - 1)\n",
    "    for start in range(first, -1, -1):\n",
    "        dagendui(a, start, n - 1)\n",
    "    for end in range(n - 1, 0, -1):           \n",
    "        a[end], a[0] = a[0], a[end]\n",
    "        dagendui(a, 0, end - 1)\n",
    "    return a\n",
    "\n",
    "def dagendui(a, start, end):\n",
    "    root = start\n",
    "    while True :\n",
    "        child = root * 2 + 1\n",
    "        if child > end: \n",
    "            break\n",
    "        if child + 1 <= end and a[child] < a[child + 1] :\n",
    "            child = child + 1  \n",
    "        if a[root] < a[child]:\n",
    "            a[root], a[child] = a[child], a[root]   \n",
    "            root = child\n",
    "        else :\n",
    "            break\n",
    "\n",
    "a = [5, 10, 9, 18, 75, 26, 8, 3]\n",
    "n = len(a)\n",
    "print(dui(a,n))"
   ]
  },
  {
   "cell_type": "code",
   "execution_count": null,
   "metadata": {},
   "outputs": [],
   "source": []
  }
 ],
 "metadata": {
  "kernelspec": {
   "display_name": "Python 3",
   "language": "python",
   "name": "python3"
  },
  "language_info": {
   "codemirror_mode": {
    "name": "ipython",
    "version": 3
   },
   "file_extension": ".py",
   "mimetype": "text/x-python",
   "name": "python",
   "nbconvert_exporter": "python",
   "pygments_lexer": "ipython3",
   "version": "3.6.4"
  }
 },
 "nbformat": 4,
 "nbformat_minor": 2
}
